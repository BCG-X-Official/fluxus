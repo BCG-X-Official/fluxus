{
 "cells": [
  {
   "cell_type": "markdown",
   "id": "563768a5-cf56-4ccd-9db7-cdfe2a117654",
   "metadata": {},
   "source": [
    "# Creating a Flow with custom classes for Producers, Transformers, and Consumers"
   ]
  },
  {
   "cell_type": "markdown",
   "id": "1cc6cf47-6d2a-433d-a0ca-9abf4b7063d2",
   "metadata": {},
   "source": [
    "## Introduction\n",
    "\n",
    "This notebook introduces the object-oriented API of *fluxus*. You will learn how to:\n",
    "\n",
    "- create your own classes for producers, transformers, and consumers\n",
    "- compose these conduits using the `>>` operator for chaining and the `&` operator for concurrent execution\n",
    "- build flows for asynchronous execution using the asynchronous versions of the classes"
   ]
  },
  {
   "cell_type": "markdown",
   "id": "2d94faabac2fca97",
   "metadata": {},
   "source": [
    "## Overview\n",
    "\n",
    "Flows consist of building blocks that create, transform, or collect data items.\n",
    "We call these data items *products*, and the building blocks *conduits*.\n",
    "\n",
    "There are three types of conduits:\n",
    "\n",
    "- **Producers**: These generate products.\n",
    "- **Transformers**: These modify or process the products.\n",
    "- **Consumers**: These collect the final products."
   ]
  },
  {
   "cell_type": "markdown",
   "id": "e83b06ba",
   "metadata": {},
   "source": [
    "## Creating Conduit classes\n",
    "\n",
    "To build your own flow using the object-oriented API, you first need to define classes for the conduits in your flow (for an easier start with *fluxus*, consider first experimenting with the *functional* API where all products are dictionaries, and no custom classes are required).\n",
    "\n",
    "All of these classes must be a subclass of one of `Producer`, `Transformer`, or `Consumer`. All of these classes are subclasses of `Conduit`.\n",
    "\n",
    "We will show examples for defining producers, transformers and consumers in the following sections, and will then use these to build and run a complete flow. "
   ]
  },
  {
   "cell_type": "markdown",
   "id": "81866155cb418a38",
   "metadata": {},
   "source": [
    "### Producers\n",
    "\n",
    "When creating a `Producer` subclass, you need to specify the type of products it generates using a type hint. Implement the `produce` method to yield products of this type.\n",
    "\n",
    "Imagine a scenario where the `Producer` generates a sequence of numbers:"
   ]
  },
  {
   "cell_type": "code",
   "execution_count": 1,
   "id": "6bd146b4e6a45d8b",
   "metadata": {
    "ExecuteTime": {
     "end_time": "2024-06-19T21:22:04.898322Z",
     "start_time": "2024-06-19T21:22:04.280951Z"
    }
   },
   "outputs": [],
   "source": [
    "from collections.abc import Iterator\n",
    "from fluxus import Producer\n",
    "from fluxus.core.transformer._transformer_base import (\n",
    "    T_SourceProduct_arg,\n",
    "    T_TransformedProduct_ret,\n",
    ")\n",
    "\n",
    "\n",
    "class NumberProducer(Producer[int]):\n",
    "\n",
    "    def __init__(self, n: int) -> None:\n",
    "        self.n = n\n",
    "\n",
    "    def produce(self) -> Iterator[int]:\n",
    "        yield from range(1, self.n + 1)"
   ]
  },
  {
   "cell_type": "markdown",
   "id": "60f43964ea37f121",
   "metadata": {},
   "source": [
    "Note that the type hint for the `Producer` parent class matches the type hint for the iterator.\n",
    "\n",
    "Producers are *iterable* so we can easily test them by iterating over them:"
   ]
  },
  {
   "cell_type": "code",
   "execution_count": 2,
   "id": "887120876ea29b8c",
   "metadata": {
    "ExecuteTime": {
     "end_time": "2024-06-19T21:22:04.902237Z",
     "start_time": "2024-06-19T21:22:04.899238Z"
    }
   },
   "outputs": [
    {
     "data": {
      "text/plain": [
       "[1, 2, 3, 4, 5]"
      ]
     },
     "execution_count": 2,
     "metadata": {},
     "output_type": "execute_result"
    }
   ],
   "source": [
    "list(NumberProducer(5))"
   ]
  },
  {
   "cell_type": "markdown",
   "id": "6bf91983cfd7e3b7",
   "metadata": {},
   "source": [
    "### Transformers\n",
    "\n",
    "When creating a `Transformer` subclass, you need to specify the input and output (product) types using type hints. Implement the `transform` method to process input products and yield transformed products of the specified output type.\n",
    "\n",
    "In our example, we will use `Transformer` classes to perform mathematical operations. We will create one transformer that doubles each number and another that calculates the square.\n"
   ]
  },
  {
   "cell_type": "code",
   "execution_count": 3,
   "id": "33b35373302ff052",
   "metadata": {
    "ExecuteTime": {
     "end_time": "2024-06-19T21:22:04.905303Z",
     "start_time": "2024-06-19T21:22:04.903002Z"
    }
   },
   "outputs": [],
   "source": [
    "from fluxus import Transformer\n",
    "\n",
    "\n",
    "class DoublingTransformer(Transformer[int, int]):\n",
    "    def transform(self, x: int) -> Iterator[int]:\n",
    "        yield x * 2\n",
    "\n",
    "\n",
    "class SquareTransformer(Transformer[int, int]):\n",
    "    def transform(self, x: int) -> Iterator[int]:\n",
    "        yield x * x"
   ]
  },
  {
   "cell_type": "markdown",
   "id": "503e3943168bc0dd",
   "metadata": {},
   "source": [
    "Once more, note that the type hints used for the `Transformer` base class match the input and output types of the `transform` method."
   ]
  },
  {
   "cell_type": "markdown",
   "id": "e29e5e86ffec71d4",
   "metadata": {},
   "source": [
    "### Consumers\n",
    "\n",
    "When creating a `Consumer` subclass, you need to specify the type of products it consumes and the type of output it generates using type hints (use `None` as the output type if there is no output).\n",
    "Implement the `consume` method to handle the consumed products.\n",
    "\n",
    "The following `Consumer` collects all processed numbers into a list.\n",
    "Note that the consumer method receives products as an iterator of tuples, where the first element is the index of the path taken through the flow and the second element is the product itself.\n",
    "The index is useful when the flow branches into multiple paths, and you want to distinguish between the products generated by each path.\n",
    "We will explore this in more detail further down."
   ]
  },
  {
   "cell_type": "code",
   "execution_count": 4,
   "id": "2c8f3f63cf547f86",
   "metadata": {
    "ExecuteTime": {
     "end_time": "2024-06-19T21:22:04.908615Z",
     "start_time": "2024-06-19T21:22:04.906630Z"
    }
   },
   "outputs": [],
   "source": [
    "from fluxus import Consumer\n",
    "\n",
    "\n",
    "class NumberConsumer(Consumer[int, list[int]]):\n",
    "    def consume(self, products: Iterator[tuple[int, int]]) -> list[int]:\n",
    "        # ignore the path index and return the numbers\n",
    "        return list(number for _, number in products)"
   ]
  },
  {
   "cell_type": "markdown",
   "id": "2e2c756ec5705e28",
   "metadata": {},
   "source": [
    "## Building a flow\n",
    "\n",
    "Now that we have defined the classes for the conduits, we can build a flow by chaining them together using the `>>` operator.\n",
    "\n",
    "In this example, we will generate numbers from 1 to 5, double then square them, and then collect the results in a list.\n",
    "\n",
    "The flow is constructed as follows:"
   ]
  },
  {
   "cell_type": "code",
   "execution_count": 5,
   "id": "68d652742e6f0439",
   "metadata": {
    "ExecuteTime": {
     "end_time": "2024-06-19T21:22:04.915943Z",
     "start_time": "2024-06-19T21:22:04.909296Z"
    }
   },
   "outputs": [],
   "source": [
    "flow = (\n",
    "    NumberProducer(n=5)\n",
    "    >> DoublingTransformer()\n",
    "    >> SquareTransformer()\n",
    "    >> NumberConsumer()\n",
    ")"
   ]
  },
  {
   "cell_type": "markdown",
   "id": "a47f496026270155",
   "metadata": {},
   "source": [
    "The `>>` operator chains the conduits together, passing the product of one conduit as the input to the next.\n",
    "\n",
    "If *Graphviz* is installed, we can visualize the flow:"
   ]
  },
  {
   "cell_type": "code",
   "execution_count": 6,
   "id": "dd15050a93607640",
   "metadata": {
    "ExecuteTime": {
     "end_time": "2024-06-19T21:22:05.635468Z",
     "start_time": "2024-06-19T21:22:04.916525Z"
    }
   },
   "outputs": [
    {
     "data": {
      "image/svg+xml": [
       "<?xml version=\"1.0\" encoding=\"UTF-8\" standalone=\"no\"?>\n",
       "<!DOCTYPE svg PUBLIC \"-//W3C//DTD SVG 1.1//EN\"\n",
       " \"http://www.w3.org/Graphics/SVG/1.1/DTD/svg11.dtd\">\n",
       "<!-- Generated by graphviz version 9.0.0 (0)\n",
       " -->\n",
       "<!-- Title: Flow Pages: 1 -->\n",
       "<svg width=\"564pt\" height=\"52pt\"\n",
       " viewBox=\"0.00 0.00 564.00 52.00\" xmlns=\"http://www.w3.org/2000/svg\" xmlns:xlink=\"http://www.w3.org/1999/xlink\">\n",
       "<g id=\"graph0\" class=\"graph\" transform=\"scale(1 1) rotate(0) translate(4 48)\">\n",
       "<title>Flow</title>\n",
       "<polygon fill=\"#ffffff\" stroke=\"none\" points=\"-4,4 -4,-48 560,-48 560,4 -4,4\"/>\n",
       "<!-- NumberProducer_4949763216 -->\n",
       "<g id=\"node1\" class=\"node\">\n",
       "<title>NumberProducer_4949763216</title>\n",
       "<path fill=\"none\" stroke=\"#30c1d7\" d=\"M12,-0.5C12,-0.5 88,-0.5 88,-0.5 94,-0.5 100,-6.5 100,-12.5 100,-12.5 100,-31.5 100,-31.5 100,-37.5 94,-43.5 88,-43.5 88,-43.5 12,-43.5 12,-43.5 6,-43.5 0,-37.5 0,-31.5 0,-31.5 0,-12.5 0,-12.5 0,-6.5 6,-0.5 12,-0.5\"/>\n",
       "<text text-anchor=\"middle\" x=\"50\" y=\"-30\" font-family=\"Monaco, Consolas, monospace\" font-size=\"10.00\" fill=\"#000000\">NumberProducer</text>\n",
       "<polyline fill=\"none\" stroke=\"#30c1d7\" points=\"0,-22 100,-22\"/>\n",
       "<text text-anchor=\"start\" x=\"8\" y=\"-8.5\" font-family=\"Monaco, Consolas, monospace\" font-size=\"10.00\" fill=\"#000000\">n=5</text>\n",
       "</g>\n",
       "<!-- DoublingTransformer_4949758352 -->\n",
       "<g id=\"node4\" class=\"node\">\n",
       "<title>DoublingTransformer_4949758352</title>\n",
       "<path fill=\"#43fda2\" stroke=\"#30c1d7\" d=\"M254,-40C254,-40 148,-40 148,-40 142,-40 136,-34 136,-28 136,-28 136,-16 136,-16 136,-10 142,-4 148,-4 148,-4 254,-4 254,-4 260,-4 266,-10 266,-16 266,-16 266,-28 266,-28 266,-34 260,-40 254,-40\"/>\n",
       "<text text-anchor=\"middle\" x=\"201\" y=\"-19.25\" font-family=\"Monaco, Consolas, monospace\" font-size=\"10.00\" fill=\"#000000\">DoublingTransformer</text>\n",
       "</g>\n",
       "<!-- NumberProducer_4949763216&#45;&gt;DoublingTransformer_4949758352 -->\n",
       "<g id=\"edge3\" class=\"edge\">\n",
       "<title>NumberProducer_4949763216&#45;&gt;DoublingTransformer_4949758352</title>\n",
       "<path fill=\"none\" stroke=\"#30c1d7\" d=\"M100.2,-22C107.92,-22 116.05,-22 124.21,-22\"/>\n",
       "<polygon fill=\"#30c1d7\" stroke=\"#30c1d7\" points=\"124.19,-25.5 134.19,-22 124.19,-18.5 124.19,-25.5\"/>\n",
       "</g>\n",
       "<!-- SquareTransformer_4949873680 -->\n",
       "<g id=\"node2\" class=\"node\">\n",
       "<title>SquareTransformer_4949873680</title>\n",
       "<path fill=\"#43fda2\" stroke=\"#30c1d7\" d=\"M408,-40C408,-40 314,-40 314,-40 308,-40 302,-34 302,-28 302,-28 302,-16 302,-16 302,-10 308,-4 314,-4 314,-4 408,-4 408,-4 414,-4 420,-10 420,-16 420,-16 420,-28 420,-28 420,-34 414,-40 408,-40\"/>\n",
       "<text text-anchor=\"middle\" x=\"361\" y=\"-19.25\" font-family=\"Monaco, Consolas, monospace\" font-size=\"10.00\" fill=\"#000000\">SquareTransformer</text>\n",
       "</g>\n",
       "<!-- NumberConsumer_4949878224 -->\n",
       "<g id=\"node3\" class=\"node\">\n",
       "<title>NumberConsumer_4949878224</title>\n",
       "<path fill=\"none\" stroke=\"#30c1d7\" d=\"M544,-40C544,-40 468,-40 468,-40 462,-40 456,-34 456,-28 456,-28 456,-16 456,-16 456,-10 462,-4 468,-4 468,-4 544,-4 544,-4 550,-4 556,-10 556,-16 556,-16 556,-28 556,-28 556,-34 550,-40 544,-40\"/>\n",
       "<text text-anchor=\"middle\" x=\"506\" y=\"-19.25\" font-family=\"Monaco, Consolas, monospace\" font-size=\"10.00\" fill=\"#000000\">NumberConsumer</text>\n",
       "</g>\n",
       "<!-- SquareTransformer_4949873680&#45;&gt;NumberConsumer_4949878224 -->\n",
       "<g id=\"edge1\" class=\"edge\">\n",
       "<title>SquareTransformer_4949873680&#45;&gt;NumberConsumer_4949878224</title>\n",
       "<path fill=\"none\" stroke=\"#30c1d7\" d=\"M420.16,-22C428.06,-22 436.18,-22 444.13,-22\"/>\n",
       "<polygon fill=\"#30c1d7\" stroke=\"#30c1d7\" points=\"444.07,-25.5 454.07,-22 444.07,-18.5 444.07,-25.5\"/>\n",
       "</g>\n",
       "<!-- DoublingTransformer_4949758352&#45;&gt;SquareTransformer_4949873680 -->\n",
       "<g id=\"edge2\" class=\"edge\">\n",
       "<title>DoublingTransformer_4949758352&#45;&gt;SquareTransformer_4949873680</title>\n",
       "<path fill=\"none\" stroke=\"#30c1d7\" d=\"M266.26,-22C274.13,-22 282.19,-22 290.14,-22\"/>\n",
       "<polygon fill=\"#30c1d7\" stroke=\"#30c1d7\" points=\"290.13,-25.5 300.13,-22 290.13,-18.5 290.13,-25.5\"/>\n",
       "</g>\n",
       "</g>\n",
       "</svg>\n"
      ],
      "text/html": [
       "<?xml version=\"1.0\" encoding=\"UTF-8\" standalone=\"no\"?>\n",
       "<!DOCTYPE svg PUBLIC \"-//W3C//DTD SVG 1.1//EN\"\n",
       " \"http://www.w3.org/Graphics/SVG/1.1/DTD/svg11.dtd\">\n",
       "<!-- Generated by graphviz version 9.0.0 (0)\n",
       " -->\n",
       "<!-- Title: Flow Pages: 1 -->\n",
       "<svg width=\"564pt\" height=\"52pt\"\n",
       " viewBox=\"0.00 0.00 564.00 52.00\" xmlns=\"http://www.w3.org/2000/svg\" xmlns:xlink=\"http://www.w3.org/1999/xlink\">\n",
       "<g id=\"graph0\" class=\"graph\" transform=\"scale(1 1) rotate(0) translate(4 48)\">\n",
       "<title>Flow</title>\n",
       "<polygon fill=\"#ffffff\" stroke=\"none\" points=\"-4,4 -4,-48 560,-48 560,4 -4,4\"/>\n",
       "<!-- NumberProducer_4949763216 -->\n",
       "<g id=\"node1\" class=\"node\">\n",
       "<title>NumberProducer_4949763216</title>\n",
       "<path fill=\"none\" stroke=\"#30c1d7\" d=\"M12,-0.5C12,-0.5 88,-0.5 88,-0.5 94,-0.5 100,-6.5 100,-12.5 100,-12.5 100,-31.5 100,-31.5 100,-37.5 94,-43.5 88,-43.5 88,-43.5 12,-43.5 12,-43.5 6,-43.5 0,-37.5 0,-31.5 0,-31.5 0,-12.5 0,-12.5 0,-6.5 6,-0.5 12,-0.5\"/>\n",
       "<text text-anchor=\"middle\" x=\"50\" y=\"-30\" font-family=\"Monaco, Consolas, monospace\" font-size=\"10.00\" fill=\"#000000\">NumberProducer</text>\n",
       "<polyline fill=\"none\" stroke=\"#30c1d7\" points=\"0,-22 100,-22\"/>\n",
       "<text text-anchor=\"start\" x=\"8\" y=\"-8.5\" font-family=\"Monaco, Consolas, monospace\" font-size=\"10.00\" fill=\"#000000\">n=5</text>\n",
       "</g>\n",
       "<!-- DoublingTransformer_4949758352 -->\n",
       "<g id=\"node4\" class=\"node\">\n",
       "<title>DoublingTransformer_4949758352</title>\n",
       "<path fill=\"#43fda2\" stroke=\"#30c1d7\" d=\"M254,-40C254,-40 148,-40 148,-40 142,-40 136,-34 136,-28 136,-28 136,-16 136,-16 136,-10 142,-4 148,-4 148,-4 254,-4 254,-4 260,-4 266,-10 266,-16 266,-16 266,-28 266,-28 266,-34 260,-40 254,-40\"/>\n",
       "<text text-anchor=\"middle\" x=\"201\" y=\"-19.25\" font-family=\"Monaco, Consolas, monospace\" font-size=\"10.00\" fill=\"#000000\">DoublingTransformer</text>\n",
       "</g>\n",
       "<!-- NumberProducer_4949763216&#45;&gt;DoublingTransformer_4949758352 -->\n",
       "<g id=\"edge3\" class=\"edge\">\n",
       "<title>NumberProducer_4949763216&#45;&gt;DoublingTransformer_4949758352</title>\n",
       "<path fill=\"none\" stroke=\"#30c1d7\" d=\"M100.2,-22C107.92,-22 116.05,-22 124.21,-22\"/>\n",
       "<polygon fill=\"#30c1d7\" stroke=\"#30c1d7\" points=\"124.19,-25.5 134.19,-22 124.19,-18.5 124.19,-25.5\"/>\n",
       "</g>\n",
       "<!-- SquareTransformer_4949873680 -->\n",
       "<g id=\"node2\" class=\"node\">\n",
       "<title>SquareTransformer_4949873680</title>\n",
       "<path fill=\"#43fda2\" stroke=\"#30c1d7\" d=\"M408,-40C408,-40 314,-40 314,-40 308,-40 302,-34 302,-28 302,-28 302,-16 302,-16 302,-10 308,-4 314,-4 314,-4 408,-4 408,-4 414,-4 420,-10 420,-16 420,-16 420,-28 420,-28 420,-34 414,-40 408,-40\"/>\n",
       "<text text-anchor=\"middle\" x=\"361\" y=\"-19.25\" font-family=\"Monaco, Consolas, monospace\" font-size=\"10.00\" fill=\"#000000\">SquareTransformer</text>\n",
       "</g>\n",
       "<!-- NumberConsumer_4949878224 -->\n",
       "<g id=\"node3\" class=\"node\">\n",
       "<title>NumberConsumer_4949878224</title>\n",
       "<path fill=\"none\" stroke=\"#30c1d7\" d=\"M544,-40C544,-40 468,-40 468,-40 462,-40 456,-34 456,-28 456,-28 456,-16 456,-16 456,-10 462,-4 468,-4 468,-4 544,-4 544,-4 550,-4 556,-10 556,-16 556,-16 556,-28 556,-28 556,-34 550,-40 544,-40\"/>\n",
       "<text text-anchor=\"middle\" x=\"506\" y=\"-19.25\" font-family=\"Monaco, Consolas, monospace\" font-size=\"10.00\" fill=\"#000000\">NumberConsumer</text>\n",
       "</g>\n",
       "<!-- SquareTransformer_4949873680&#45;&gt;NumberConsumer_4949878224 -->\n",
       "<g id=\"edge1\" class=\"edge\">\n",
       "<title>SquareTransformer_4949873680&#45;&gt;NumberConsumer_4949878224</title>\n",
       "<path fill=\"none\" stroke=\"#30c1d7\" d=\"M420.16,-22C428.06,-22 436.18,-22 444.13,-22\"/>\n",
       "<polygon fill=\"#30c1d7\" stroke=\"#30c1d7\" points=\"444.07,-25.5 454.07,-22 444.07,-18.5 444.07,-25.5\"/>\n",
       "</g>\n",
       "<!-- DoublingTransformer_4949758352&#45;&gt;SquareTransformer_4949873680 -->\n",
       "<g id=\"edge2\" class=\"edge\">\n",
       "<title>DoublingTransformer_4949758352&#45;&gt;SquareTransformer_4949873680</title>\n",
       "<path fill=\"none\" stroke=\"#30c1d7\" d=\"M266.26,-22C274.13,-22 282.19,-22 290.14,-22\"/>\n",
       "<polygon fill=\"#30c1d7\" stroke=\"#30c1d7\" points=\"290.13,-25.5 300.13,-22 290.13,-18.5 290.13,-25.5\"/>\n",
       "</g>\n",
       "</g>\n",
       "</svg>\n"
      ],
      "text/plain": [
       "NumberProducer(n=5) >> DoublingTransformer() >> SquareTransformer() >> NumberConsumer()"
      ]
     },
     "execution_count": 6,
     "metadata": {},
     "output_type": "execute_result"
    }
   ],
   "source": [
    "flow"
   ]
  },
  {
   "cell_type": "markdown",
   "id": "7533943b5f84a29e",
   "metadata": {},
   "source": [
    "Note that the graph includes the `n` property of the `NumberProducer`.\n",
    "All `__init__` parameters of a conduit that have a matching instance attribute will be included in representations of the flow, as is the case with the `n` parameter of the `NumberProducer`.\n",
    "\n",
    "More styles are available via the `style` argument of the `draw` method:"
   ]
  },
  {
   "cell_type": "code",
   "execution_count": 7,
   "id": "26be42c28dfec061",
   "metadata": {
    "ExecuteTime": {
     "end_time": "2024-06-19T21:22:05.769310Z",
     "start_time": "2024-06-19T21:22:05.636444Z"
    }
   },
   "outputs": [
    {
     "data": {
      "image/svg+xml": [
       "<?xml version=\"1.0\" encoding=\"UTF-8\" standalone=\"no\"?>\n",
       "<!DOCTYPE svg PUBLIC \"-//W3C//DTD SVG 1.1//EN\"\n",
       " \"http://www.w3.org/Graphics/SVG/1.1/DTD/svg11.dtd\">\n",
       "<!-- Generated by graphviz version 9.0.0 (0)\n",
       " -->\n",
       "<!-- Title: Flow Pages: 1 -->\n",
       "<svg width=\"564pt\" height=\"52pt\"\n",
       " viewBox=\"0.00 0.00 564.00 52.00\" xmlns=\"http://www.w3.org/2000/svg\" xmlns:xlink=\"http://www.w3.org/1999/xlink\">\n",
       "<g id=\"graph0\" class=\"graph\" transform=\"scale(1 1) rotate(0) translate(4 48)\">\n",
       "<title>Flow</title>\n",
       "<polygon fill=\"#000000\" stroke=\"none\" points=\"-4,4 -4,-48 560,-48 560,4 -4,4\"/>\n",
       "<!-- NumberProducer_4949763216 -->\n",
       "<g id=\"node1\" class=\"node\">\n",
       "<title>NumberProducer_4949763216</title>\n",
       "<path fill=\"none\" stroke=\"#30c1d7\" d=\"M12,-0.5C12,-0.5 88,-0.5 88,-0.5 94,-0.5 100,-6.5 100,-12.5 100,-12.5 100,-31.5 100,-31.5 100,-37.5 94,-43.5 88,-43.5 88,-43.5 12,-43.5 12,-43.5 6,-43.5 0,-37.5 0,-31.5 0,-31.5 0,-12.5 0,-12.5 0,-6.5 6,-0.5 12,-0.5\"/>\n",
       "<text text-anchor=\"middle\" x=\"50\" y=\"-30\" font-family=\"Monaco, Consolas, monospace\" font-size=\"10.00\" fill=\"#ffffff\">NumberProducer</text>\n",
       "<polyline fill=\"none\" stroke=\"#30c1d7\" points=\"0,-22 100,-22\"/>\n",
       "<text text-anchor=\"start\" x=\"8\" y=\"-8.5\" font-family=\"Monaco, Consolas, monospace\" font-size=\"10.00\" fill=\"#ffffff\">n=5</text>\n",
       "</g>\n",
       "<!-- DoublingTransformer_4949758352 -->\n",
       "<g id=\"node4\" class=\"node\">\n",
       "<title>DoublingTransformer_4949758352</title>\n",
       "<path fill=\"#43fda2\" stroke=\"#30c1d7\" d=\"M254,-40C254,-40 148,-40 148,-40 142,-40 136,-34 136,-28 136,-28 136,-16 136,-16 136,-10 142,-4 148,-4 148,-4 254,-4 254,-4 260,-4 266,-10 266,-16 266,-16 266,-28 266,-28 266,-34 260,-40 254,-40\"/>\n",
       "<text text-anchor=\"middle\" x=\"201\" y=\"-19.25\" font-family=\"Monaco, Consolas, monospace\" font-size=\"10.00\" fill=\"#000000\">DoublingTransformer</text>\n",
       "</g>\n",
       "<!-- NumberProducer_4949763216&#45;&gt;DoublingTransformer_4949758352 -->\n",
       "<g id=\"edge3\" class=\"edge\">\n",
       "<title>NumberProducer_4949763216&#45;&gt;DoublingTransformer_4949758352</title>\n",
       "<path fill=\"none\" stroke=\"#30c1d7\" d=\"M100.2,-22C107.92,-22 116.05,-22 124.21,-22\"/>\n",
       "<polygon fill=\"#30c1d7\" stroke=\"#30c1d7\" points=\"124.19,-25.5 134.19,-22 124.19,-18.5 124.19,-25.5\"/>\n",
       "</g>\n",
       "<!-- SquareTransformer_4949873680 -->\n",
       "<g id=\"node2\" class=\"node\">\n",
       "<title>SquareTransformer_4949873680</title>\n",
       "<path fill=\"#43fda2\" stroke=\"#30c1d7\" d=\"M408,-40C408,-40 314,-40 314,-40 308,-40 302,-34 302,-28 302,-28 302,-16 302,-16 302,-10 308,-4 314,-4 314,-4 408,-4 408,-4 414,-4 420,-10 420,-16 420,-16 420,-28 420,-28 420,-34 414,-40 408,-40\"/>\n",
       "<text text-anchor=\"middle\" x=\"361\" y=\"-19.25\" font-family=\"Monaco, Consolas, monospace\" font-size=\"10.00\" fill=\"#000000\">SquareTransformer</text>\n",
       "</g>\n",
       "<!-- NumberConsumer_4949878224 -->\n",
       "<g id=\"node3\" class=\"node\">\n",
       "<title>NumberConsumer_4949878224</title>\n",
       "<path fill=\"none\" stroke=\"#30c1d7\" d=\"M544,-40C544,-40 468,-40 468,-40 462,-40 456,-34 456,-28 456,-28 456,-16 456,-16 456,-10 462,-4 468,-4 468,-4 544,-4 544,-4 550,-4 556,-10 556,-16 556,-16 556,-28 556,-28 556,-34 550,-40 544,-40\"/>\n",
       "<text text-anchor=\"middle\" x=\"506\" y=\"-19.25\" font-family=\"Monaco, Consolas, monospace\" font-size=\"10.00\" fill=\"#ffffff\">NumberConsumer</text>\n",
       "</g>\n",
       "<!-- SquareTransformer_4949873680&#45;&gt;NumberConsumer_4949878224 -->\n",
       "<g id=\"edge1\" class=\"edge\">\n",
       "<title>SquareTransformer_4949873680&#45;&gt;NumberConsumer_4949878224</title>\n",
       "<path fill=\"none\" stroke=\"#30c1d7\" d=\"M420.16,-22C428.06,-22 436.18,-22 444.13,-22\"/>\n",
       "<polygon fill=\"#30c1d7\" stroke=\"#30c1d7\" points=\"444.07,-25.5 454.07,-22 444.07,-18.5 444.07,-25.5\"/>\n",
       "</g>\n",
       "<!-- DoublingTransformer_4949758352&#45;&gt;SquareTransformer_4949873680 -->\n",
       "<g id=\"edge2\" class=\"edge\">\n",
       "<title>DoublingTransformer_4949758352&#45;&gt;SquareTransformer_4949873680</title>\n",
       "<path fill=\"none\" stroke=\"#30c1d7\" d=\"M266.26,-22C274.13,-22 282.19,-22 290.14,-22\"/>\n",
       "<polygon fill=\"#30c1d7\" stroke=\"#30c1d7\" points=\"290.13,-25.5 300.13,-22 290.13,-18.5 290.13,-25.5\"/>\n",
       "</g>\n",
       "</g>\n",
       "</svg>\n"
      ],
      "text/plain": [
       "<graphviz.sources.Source at 0x1283986d0>"
      ]
     },
     "metadata": {},
     "output_type": "display_data"
    }
   ],
   "source": [
    "flow.draw(style=\"graph_dark\")"
   ]
  },
  {
   "cell_type": "markdown",
   "id": "f783585118c6328d",
   "metadata": {},
   "source": [
    "We can now run the flow:"
   ]
  },
  {
   "cell_type": "code",
   "execution_count": 8,
   "id": "c720b2d0966ba764",
   "metadata": {
    "ExecuteTime": {
     "end_time": "2024-06-19T21:22:05.773263Z",
     "start_time": "2024-06-19T21:22:05.770433Z"
    }
   },
   "outputs": [
    {
     "data": {
      "text/plain": [
       "[4, 16, 36, 64, 100]"
      ]
     },
     "execution_count": 8,
     "metadata": {},
     "output_type": "execute_result"
    }
   ],
   "source": [
    "flow.run()"
   ]
  },
  {
   "cell_type": "markdown",
   "id": "a6b4aad1b8958615",
   "metadata": {},
   "source": [
    "## Parallel flows\n",
    "\n",
    "In many cases, you will want to run multiple conduits concurrently.\n",
    "This can be achieved using the `&` operator.\n",
    "\n",
    "In the following example, we will generate numbers from 1 to 5.\n",
    "For each of these numbers, we will once calculate the square and once the doubled value, in parallel.\n",
    "We will then collect the results in a list.\n",
    "\n",
    "The flow is constructed as follows:"
   ]
  },
  {
   "cell_type": "code",
   "execution_count": 9,
   "id": "2a55c4a05dbe270f",
   "metadata": {
    "ExecuteTime": {
     "end_time": "2024-06-19T21:22:05.776982Z",
     "start_time": "2024-06-19T21:22:05.774048Z"
    }
   },
   "outputs": [],
   "source": [
    "flow = (\n",
    "    NumberProducer(n=5)\n",
    "    >> (DoublingTransformer() & SquareTransformer())\n",
    "    >> NumberConsumer()\n",
    ")"
   ]
  },
  {
   "cell_type": "markdown",
   "id": "b3f040a960b50301",
   "metadata": {},
   "source": [
    "The flow looks like this:"
   ]
  },
  {
   "cell_type": "code",
   "execution_count": 10,
   "id": "888cc8cd57025b6f",
   "metadata": {
    "ExecuteTime": {
     "end_time": "2024-06-19T21:22:06.041985Z",
     "start_time": "2024-06-19T21:22:05.779003Z"
    }
   },
   "outputs": [
    {
     "data": {
      "image/svg+xml": [
       "<?xml version=\"1.0\" encoding=\"UTF-8\" standalone=\"no\"?>\n",
       "<!DOCTYPE svg PUBLIC \"-//W3C//DTD SVG 1.1//EN\"\n",
       " \"http://www.w3.org/Graphics/SVG/1.1/DTD/svg11.dtd\">\n",
       "<!-- Generated by graphviz version 9.0.0 (0)\n",
       " -->\n",
       "<!-- Title: Flow Pages: 1 -->\n",
       "<svg width=\"410pt\" height=\"98pt\"\n",
       " viewBox=\"0.00 0.00 410.00 98.00\" xmlns=\"http://www.w3.org/2000/svg\" xmlns:xlink=\"http://www.w3.org/1999/xlink\">\n",
       "<g id=\"graph0\" class=\"graph\" transform=\"scale(1 1) rotate(0) translate(4 94)\">\n",
       "<title>Flow</title>\n",
       "<polygon fill=\"#ffffff\" stroke=\"none\" points=\"-4,4 -4,-94 406,-94 406,4 -4,4\"/>\n",
       "<!-- SquareTransformer_4970669328 -->\n",
       "<g id=\"node1\" class=\"node\">\n",
       "<title>SquareTransformer_4970669328</title>\n",
       "<path fill=\"#43fda2\" stroke=\"#30c1d7\" d=\"M248,-90C248,-90 154,-90 154,-90 148,-90 142,-84 142,-78 142,-78 142,-66 142,-66 142,-60 148,-54 154,-54 154,-54 248,-54 248,-54 254,-54 260,-60 260,-66 260,-66 260,-78 260,-78 260,-84 254,-90 248,-90\"/>\n",
       "<text text-anchor=\"middle\" x=\"201\" y=\"-69.25\" font-family=\"Monaco, Consolas, monospace\" font-size=\"10.00\" fill=\"#000000\">SquareTransformer</text>\n",
       "</g>\n",
       "<!-- NumberConsumer_4968685840 -->\n",
       "<g id=\"node3\" class=\"node\">\n",
       "<title>NumberConsumer_4968685840</title>\n",
       "<path fill=\"none\" stroke=\"#30c1d7\" d=\"M390,-63C390,-63 314,-63 314,-63 308,-63 302,-57 302,-51 302,-51 302,-39 302,-39 302,-33 308,-27 314,-27 314,-27 390,-27 390,-27 396,-27 402,-33 402,-39 402,-39 402,-51 402,-51 402,-57 396,-63 390,-63\"/>\n",
       "<text text-anchor=\"middle\" x=\"352\" y=\"-42.25\" font-family=\"Monaco, Consolas, monospace\" font-size=\"10.00\" fill=\"#000000\">NumberConsumer</text>\n",
       "</g>\n",
       "<!-- SquareTransformer_4970669328&#45;&gt;NumberConsumer_4968685840 -->\n",
       "<g id=\"edge4\" class=\"edge\">\n",
       "<title>SquareTransformer_4970669328&#45;&gt;NumberConsumer_4968685840</title>\n",
       "<path fill=\"none\" stroke=\"#30c1d7\" d=\"M260.46,-61.41C270.41,-59.6 280.77,-57.73 290.76,-55.92\"/>\n",
       "<polygon fill=\"#30c1d7\" stroke=\"#30c1d7\" points=\"291.15,-59.4 300.37,-54.17 289.9,-52.51 291.15,-59.4\"/>\n",
       "</g>\n",
       "<!-- NumberProducer_4970669648 -->\n",
       "<g id=\"node2\" class=\"node\">\n",
       "<title>NumberProducer_4970669648</title>\n",
       "<path fill=\"none\" stroke=\"#30c1d7\" d=\"M12,-23.5C12,-23.5 88,-23.5 88,-23.5 94,-23.5 100,-29.5 100,-35.5 100,-35.5 100,-54.5 100,-54.5 100,-60.5 94,-66.5 88,-66.5 88,-66.5 12,-66.5 12,-66.5 6,-66.5 0,-60.5 0,-54.5 0,-54.5 0,-35.5 0,-35.5 0,-29.5 6,-23.5 12,-23.5\"/>\n",
       "<text text-anchor=\"middle\" x=\"50\" y=\"-53\" font-family=\"Monaco, Consolas, monospace\" font-size=\"10.00\" fill=\"#000000\">NumberProducer</text>\n",
       "<polyline fill=\"none\" stroke=\"#30c1d7\" points=\"0,-45 100,-45\"/>\n",
       "<text text-anchor=\"start\" x=\"8\" y=\"-31.5\" font-family=\"Monaco, Consolas, monospace\" font-size=\"10.00\" fill=\"#000000\">n=5</text>\n",
       "</g>\n",
       "<!-- NumberProducer_4970669648&#45;&gt;SquareTransformer_4970669328 -->\n",
       "<g id=\"edge2\" class=\"edge\">\n",
       "<title>NumberProducer_4970669648&#45;&gt;SquareTransformer_4970669328</title>\n",
       "<path fill=\"none\" stroke=\"#30c1d7\" d=\"M100.2,-53.92C109.91,-55.68 120.27,-57.55 130.51,-59.41\"/>\n",
       "<polygon fill=\"#30c1d7\" stroke=\"#30c1d7\" points=\"129.58,-62.8 140.04,-61.13 130.82,-55.91 129.58,-62.8\"/>\n",
       "</g>\n",
       "<!-- DoublingTransformer_4970669584 -->\n",
       "<g id=\"node4\" class=\"node\">\n",
       "<title>DoublingTransformer_4970669584</title>\n",
       "<path fill=\"#43fda2\" stroke=\"#30c1d7\" d=\"M254,-36C254,-36 148,-36 148,-36 142,-36 136,-30 136,-24 136,-24 136,-12 136,-12 136,-6 142,0 148,0 148,0 254,0 254,0 260,0 266,-6 266,-12 266,-12 266,-24 266,-24 266,-30 260,-36 254,-36\"/>\n",
       "<text text-anchor=\"middle\" x=\"201\" y=\"-15.25\" font-family=\"Monaco, Consolas, monospace\" font-size=\"10.00\" fill=\"#000000\">DoublingTransformer</text>\n",
       "</g>\n",
       "<!-- NumberProducer_4970669648&#45;&gt;DoublingTransformer_4970669584 -->\n",
       "<g id=\"edge1\" class=\"edge\">\n",
       "<title>NumberProducer_4970669648&#45;&gt;DoublingTransformer_4970669584</title>\n",
       "<path fill=\"none\" stroke=\"#30c1d7\" d=\"M100.2,-36.08C108.01,-34.67 116.24,-33.18 124.49,-31.68\"/>\n",
       "<polygon fill=\"#30c1d7\" stroke=\"#30c1d7\" points=\"125,-35.15 134.21,-29.92 123.75,-28.26 125,-35.15\"/>\n",
       "</g>\n",
       "<!-- DoublingTransformer_4970669584&#45;&gt;NumberConsumer_4968685840 -->\n",
       "<g id=\"edge3\" class=\"edge\">\n",
       "<title>DoublingTransformer_4970669584&#45;&gt;NumberConsumer_4968685840</title>\n",
       "<path fill=\"none\" stroke=\"#30c1d7\" d=\"M266.49,-29.69C274.51,-31.14 282.68,-32.62 290.64,-34.06\"/>\n",
       "<polygon fill=\"#30c1d7\" stroke=\"#30c1d7\" points=\"289.74,-37.46 300.2,-35.79 290.99,-30.57 289.74,-37.46\"/>\n",
       "</g>\n",
       "</g>\n",
       "</svg>\n"
      ],
      "text/html": [
       "<?xml version=\"1.0\" encoding=\"UTF-8\" standalone=\"no\"?>\n",
       "<!DOCTYPE svg PUBLIC \"-//W3C//DTD SVG 1.1//EN\"\n",
       " \"http://www.w3.org/Graphics/SVG/1.1/DTD/svg11.dtd\">\n",
       "<!-- Generated by graphviz version 9.0.0 (0)\n",
       " -->\n",
       "<!-- Title: Flow Pages: 1 -->\n",
       "<svg width=\"410pt\" height=\"98pt\"\n",
       " viewBox=\"0.00 0.00 410.00 98.00\" xmlns=\"http://www.w3.org/2000/svg\" xmlns:xlink=\"http://www.w3.org/1999/xlink\">\n",
       "<g id=\"graph0\" class=\"graph\" transform=\"scale(1 1) rotate(0) translate(4 94)\">\n",
       "<title>Flow</title>\n",
       "<polygon fill=\"#ffffff\" stroke=\"none\" points=\"-4,4 -4,-94 406,-94 406,4 -4,4\"/>\n",
       "<!-- SquareTransformer_4970669328 -->\n",
       "<g id=\"node1\" class=\"node\">\n",
       "<title>SquareTransformer_4970669328</title>\n",
       "<path fill=\"#43fda2\" stroke=\"#30c1d7\" d=\"M248,-90C248,-90 154,-90 154,-90 148,-90 142,-84 142,-78 142,-78 142,-66 142,-66 142,-60 148,-54 154,-54 154,-54 248,-54 248,-54 254,-54 260,-60 260,-66 260,-66 260,-78 260,-78 260,-84 254,-90 248,-90\"/>\n",
       "<text text-anchor=\"middle\" x=\"201\" y=\"-69.25\" font-family=\"Monaco, Consolas, monospace\" font-size=\"10.00\" fill=\"#000000\">SquareTransformer</text>\n",
       "</g>\n",
       "<!-- NumberConsumer_4968685840 -->\n",
       "<g id=\"node3\" class=\"node\">\n",
       "<title>NumberConsumer_4968685840</title>\n",
       "<path fill=\"none\" stroke=\"#30c1d7\" d=\"M390,-63C390,-63 314,-63 314,-63 308,-63 302,-57 302,-51 302,-51 302,-39 302,-39 302,-33 308,-27 314,-27 314,-27 390,-27 390,-27 396,-27 402,-33 402,-39 402,-39 402,-51 402,-51 402,-57 396,-63 390,-63\"/>\n",
       "<text text-anchor=\"middle\" x=\"352\" y=\"-42.25\" font-family=\"Monaco, Consolas, monospace\" font-size=\"10.00\" fill=\"#000000\">NumberConsumer</text>\n",
       "</g>\n",
       "<!-- SquareTransformer_4970669328&#45;&gt;NumberConsumer_4968685840 -->\n",
       "<g id=\"edge4\" class=\"edge\">\n",
       "<title>SquareTransformer_4970669328&#45;&gt;NumberConsumer_4968685840</title>\n",
       "<path fill=\"none\" stroke=\"#30c1d7\" d=\"M260.46,-61.41C270.41,-59.6 280.77,-57.73 290.76,-55.92\"/>\n",
       "<polygon fill=\"#30c1d7\" stroke=\"#30c1d7\" points=\"291.15,-59.4 300.37,-54.17 289.9,-52.51 291.15,-59.4\"/>\n",
       "</g>\n",
       "<!-- NumberProducer_4970669648 -->\n",
       "<g id=\"node2\" class=\"node\">\n",
       "<title>NumberProducer_4970669648</title>\n",
       "<path fill=\"none\" stroke=\"#30c1d7\" d=\"M12,-23.5C12,-23.5 88,-23.5 88,-23.5 94,-23.5 100,-29.5 100,-35.5 100,-35.5 100,-54.5 100,-54.5 100,-60.5 94,-66.5 88,-66.5 88,-66.5 12,-66.5 12,-66.5 6,-66.5 0,-60.5 0,-54.5 0,-54.5 0,-35.5 0,-35.5 0,-29.5 6,-23.5 12,-23.5\"/>\n",
       "<text text-anchor=\"middle\" x=\"50\" y=\"-53\" font-family=\"Monaco, Consolas, monospace\" font-size=\"10.00\" fill=\"#000000\">NumberProducer</text>\n",
       "<polyline fill=\"none\" stroke=\"#30c1d7\" points=\"0,-45 100,-45\"/>\n",
       "<text text-anchor=\"start\" x=\"8\" y=\"-31.5\" font-family=\"Monaco, Consolas, monospace\" font-size=\"10.00\" fill=\"#000000\">n=5</text>\n",
       "</g>\n",
       "<!-- NumberProducer_4970669648&#45;&gt;SquareTransformer_4970669328 -->\n",
       "<g id=\"edge2\" class=\"edge\">\n",
       "<title>NumberProducer_4970669648&#45;&gt;SquareTransformer_4970669328</title>\n",
       "<path fill=\"none\" stroke=\"#30c1d7\" d=\"M100.2,-53.92C109.91,-55.68 120.27,-57.55 130.51,-59.41\"/>\n",
       "<polygon fill=\"#30c1d7\" stroke=\"#30c1d7\" points=\"129.58,-62.8 140.04,-61.13 130.82,-55.91 129.58,-62.8\"/>\n",
       "</g>\n",
       "<!-- DoublingTransformer_4970669584 -->\n",
       "<g id=\"node4\" class=\"node\">\n",
       "<title>DoublingTransformer_4970669584</title>\n",
       "<path fill=\"#43fda2\" stroke=\"#30c1d7\" d=\"M254,-36C254,-36 148,-36 148,-36 142,-36 136,-30 136,-24 136,-24 136,-12 136,-12 136,-6 142,0 148,0 148,0 254,0 254,0 260,0 266,-6 266,-12 266,-12 266,-24 266,-24 266,-30 260,-36 254,-36\"/>\n",
       "<text text-anchor=\"middle\" x=\"201\" y=\"-15.25\" font-family=\"Monaco, Consolas, monospace\" font-size=\"10.00\" fill=\"#000000\">DoublingTransformer</text>\n",
       "</g>\n",
       "<!-- NumberProducer_4970669648&#45;&gt;DoublingTransformer_4970669584 -->\n",
       "<g id=\"edge1\" class=\"edge\">\n",
       "<title>NumberProducer_4970669648&#45;&gt;DoublingTransformer_4970669584</title>\n",
       "<path fill=\"none\" stroke=\"#30c1d7\" d=\"M100.2,-36.08C108.01,-34.67 116.24,-33.18 124.49,-31.68\"/>\n",
       "<polygon fill=\"#30c1d7\" stroke=\"#30c1d7\" points=\"125,-35.15 134.21,-29.92 123.75,-28.26 125,-35.15\"/>\n",
       "</g>\n",
       "<!-- DoublingTransformer_4970669584&#45;&gt;NumberConsumer_4968685840 -->\n",
       "<g id=\"edge3\" class=\"edge\">\n",
       "<title>DoublingTransformer_4970669584&#45;&gt;NumberConsumer_4968685840</title>\n",
       "<path fill=\"none\" stroke=\"#30c1d7\" d=\"M266.49,-29.69C274.51,-31.14 282.68,-32.62 290.64,-34.06\"/>\n",
       "<polygon fill=\"#30c1d7\" stroke=\"#30c1d7\" points=\"289.74,-37.46 300.2,-35.79 290.99,-30.57 289.74,-37.46\"/>\n",
       "</g>\n",
       "</g>\n",
       "</svg>\n"
      ],
      "text/plain": [
       "NumberProducer(n=5) >> (DoublingTransformer() & SquareTransformer()) >> NumberConsumer()"
      ]
     },
     "execution_count": 10,
     "metadata": {},
     "output_type": "execute_result"
    }
   ],
   "source": [
    "flow"
   ]
  },
  {
   "cell_type": "markdown",
   "id": "c88aa963ca364577",
   "metadata": {},
   "source": [
    "We run the flow as before:"
   ]
  },
  {
   "cell_type": "code",
   "execution_count": 11,
   "id": "8dfc5d6abac05e43",
   "metadata": {
    "ExecuteTime": {
     "end_time": "2024-06-19T21:22:06.045920Z",
     "start_time": "2024-06-19T21:22:06.042854Z"
    }
   },
   "outputs": [
    {
     "data": {
      "text/plain": [
       "[2, 4, 6, 8, 10, 1, 4, 9, 16, 25]"
      ]
     },
     "execution_count": 11,
     "metadata": {},
     "output_type": "execute_result"
    }
   ],
   "source": [
    "flow.run()"
   ]
  },
  {
   "cell_type": "markdown",
   "id": "32cdc89988b72e98",
   "metadata": {},
   "source": [
    "### The `Passthrough` transformer\n",
    "\n",
    "In the previous example, we used the `&` operator to run two transformers in parallel.\n",
    "A special `Passthrough` transformer can be included in a parallel composition of conduits to pass the input product through without modification.\n",
    "\n",
    "Applying the `Passthrough` transformer to the previous example, we get:"
   ]
  },
  {
   "cell_type": "code",
   "execution_count": 12,
   "id": "f38e1febf145ff2a",
   "metadata": {
    "ExecuteTime": {
     "end_time": "2024-06-19T21:22:06.050259Z",
     "start_time": "2024-06-19T21:22:06.046637Z"
    }
   },
   "outputs": [],
   "source": [
    "from fluxus import Passthrough\n",
    "\n",
    "flow_passthrough = (\n",
    "    NumberProducer(n=5)\n",
    "    >> (DoublingTransformer() & SquareTransformer() & Passthrough())\n",
    "    >> NumberConsumer()\n",
    ")"
   ]
  },
  {
   "cell_type": "markdown",
   "id": "d6610c3b17504af2",
   "metadata": {},
   "source": [
    "The flow looks like this:"
   ]
  },
  {
   "cell_type": "code",
   "execution_count": 13,
   "id": "798edb45c7fd9a4e",
   "metadata": {
    "ExecuteTime": {
     "end_time": "2024-06-19T21:22:06.316111Z",
     "start_time": "2024-06-19T21:22:06.051045Z"
    }
   },
   "outputs": [
    {
     "data": {
      "image/svg+xml": [
       "<?xml version=\"1.0\" encoding=\"UTF-8\" standalone=\"no\"?>\n",
       "<!DOCTYPE svg PUBLIC \"-//W3C//DTD SVG 1.1//EN\"\n",
       " \"http://www.w3.org/Graphics/SVG/1.1/DTD/svg11.dtd\">\n",
       "<!-- Generated by graphviz version 9.0.0 (0)\n",
       " -->\n",
       "<!-- Title: Flow Pages: 1 -->\n",
       "<svg width=\"410pt\" height=\"114pt\"\n",
       " viewBox=\"0.00 0.00 410.00 113.64\" xmlns=\"http://www.w3.org/2000/svg\" xmlns:xlink=\"http://www.w3.org/1999/xlink\">\n",
       "<g id=\"graph0\" class=\"graph\" transform=\"scale(1 1) rotate(0) translate(4 109.64)\">\n",
       "<title>Flow</title>\n",
       "<polygon fill=\"#ffffff\" stroke=\"none\" points=\"-4,4 -4,-109.64 406,-109.64 406,4 -4,4\"/>\n",
       "<!-- NumberConsumer_4959518928 -->\n",
       "<g id=\"node1\" class=\"node\">\n",
       "<title>NumberConsumer_4959518928</title>\n",
       "<path fill=\"none\" stroke=\"#30c1d7\" d=\"M390,-90C390,-90 314,-90 314,-90 308,-90 302,-84 302,-78 302,-78 302,-66 302,-66 302,-60 308,-54 314,-54 314,-54 390,-54 390,-54 396,-54 402,-60 402,-66 402,-66 402,-78 402,-78 402,-84 396,-90 390,-90\"/>\n",
       "<text text-anchor=\"middle\" x=\"352\" y=\"-69.25\" font-family=\"Monaco, Consolas, monospace\" font-size=\"10.00\" fill=\"#000000\">NumberConsumer</text>\n",
       "</g>\n",
       "<!-- DoublingTransformer_4963709264 -->\n",
       "<g id=\"node2\" class=\"node\">\n",
       "<title>DoublingTransformer_4963709264</title>\n",
       "<path fill=\"#43fda2\" stroke=\"#30c1d7\" d=\"M254,-90C254,-90 148,-90 148,-90 142,-90 136,-84 136,-78 136,-78 136,-66 136,-66 136,-60 142,-54 148,-54 148,-54 254,-54 254,-54 260,-54 266,-60 266,-66 266,-66 266,-78 266,-78 266,-84 260,-90 254,-90\"/>\n",
       "<text text-anchor=\"middle\" x=\"201\" y=\"-69.25\" font-family=\"Monaco, Consolas, monospace\" font-size=\"10.00\" fill=\"#000000\">DoublingTransformer</text>\n",
       "</g>\n",
       "<!-- DoublingTransformer_4963709264&#45;&gt;NumberConsumer_4959518928 -->\n",
       "<g id=\"edge4\" class=\"edge\">\n",
       "<title>DoublingTransformer_4963709264&#45;&gt;NumberConsumer_4959518928</title>\n",
       "<path fill=\"none\" stroke=\"#30c1d7\" d=\"M266.49,-72C274.41,-72 282.49,-72 290.36,-72\"/>\n",
       "<polygon fill=\"#30c1d7\" stroke=\"#30c1d7\" points=\"290.18,-75.5 300.18,-72 290.18,-68.5 290.18,-75.5\"/>\n",
       "</g>\n",
       "<!-- SquareTransformer_4963698128 -->\n",
       "<g id=\"node3\" class=\"node\">\n",
       "<title>SquareTransformer_4963698128</title>\n",
       "<path fill=\"#43fda2\" stroke=\"#30c1d7\" d=\"M248,-36C248,-36 154,-36 154,-36 148,-36 142,-30 142,-24 142,-24 142,-12 142,-12 142,-6 148,0 154,0 154,0 248,0 248,0 254,0 260,-6 260,-12 260,-12 260,-24 260,-24 260,-30 254,-36 248,-36\"/>\n",
       "<text text-anchor=\"middle\" x=\"201\" y=\"-15.25\" font-family=\"Monaco, Consolas, monospace\" font-size=\"10.00\" fill=\"#000000\">SquareTransformer</text>\n",
       "</g>\n",
       "<!-- SquareTransformer_4963698128&#45;&gt;NumberConsumer_4959518928 -->\n",
       "<g id=\"edge5\" class=\"edge\">\n",
       "<title>SquareTransformer_4963698128&#45;&gt;NumberConsumer_4959518928</title>\n",
       "<path fill=\"none\" stroke=\"#30c1d7\" d=\"M252.86,-36.43C265.18,-40.9 278.46,-45.71 291.14,-50.31\"/>\n",
       "<polygon fill=\"#30c1d7\" stroke=\"#30c1d7\" points=\"289.61,-53.47 300.21,-53.59 292,-46.89 289.61,-53.47\"/>\n",
       "</g>\n",
       "<!-- NumberProducer_4959444688 -->\n",
       "<g id=\"node4\" class=\"node\">\n",
       "<title>NumberProducer_4959444688</title>\n",
       "<path fill=\"none\" stroke=\"#30c1d7\" d=\"M12,-50.5C12,-50.5 88,-50.5 88,-50.5 94,-50.5 100,-56.5 100,-62.5 100,-62.5 100,-81.5 100,-81.5 100,-87.5 94,-93.5 88,-93.5 88,-93.5 12,-93.5 12,-93.5 6,-93.5 0,-87.5 0,-81.5 0,-81.5 0,-62.5 0,-62.5 0,-56.5 6,-50.5 12,-50.5\"/>\n",
       "<text text-anchor=\"middle\" x=\"50\" y=\"-80\" font-family=\"Monaco, Consolas, monospace\" font-size=\"10.00\" fill=\"#000000\">NumberProducer</text>\n",
       "<polyline fill=\"none\" stroke=\"#30c1d7\" points=\"0,-72 100,-72\"/>\n",
       "<text text-anchor=\"start\" x=\"8\" y=\"-58.5\" font-family=\"Monaco, Consolas, monospace\" font-size=\"10.00\" fill=\"#000000\">n=5</text>\n",
       "</g>\n",
       "<!-- NumberProducer_4959444688&#45;&gt;NumberConsumer_4959518928 -->\n",
       "<g id=\"edge2\" class=\"edge\">\n",
       "<title>NumberProducer_4959444688&#45;&gt;NumberConsumer_4959518928</title>\n",
       "<path fill=\"none\" stroke=\"#30c1d7\" d=\"M100.28,-90.46C111.83,-94 124.22,-97.17 136,-99 193.1,-107.85 208.9,-107.85 266,-99 274.1,-97.74 282.48,-95.85 290.69,-93.64\"/>\n",
       "<polygon fill=\"#30c1d7\" stroke=\"#30c1d7\" points=\"291.63,-97.02 300.27,-90.88 289.69,-90.29 291.63,-97.02\"/>\n",
       "</g>\n",
       "<!-- NumberProducer_4959444688&#45;&gt;DoublingTransformer_4963709264 -->\n",
       "<g id=\"edge3\" class=\"edge\">\n",
       "<title>NumberProducer_4959444688&#45;&gt;DoublingTransformer_4963709264</title>\n",
       "<path fill=\"none\" stroke=\"#30c1d7\" d=\"M100.2,-72C107.92,-72 116.05,-72 124.21,-72\"/>\n",
       "<polygon fill=\"#30c1d7\" stroke=\"#30c1d7\" points=\"124.19,-75.5 134.19,-72 124.19,-68.5 124.19,-75.5\"/>\n",
       "</g>\n",
       "<!-- NumberProducer_4959444688&#45;&gt;SquareTransformer_4963698128 -->\n",
       "<g id=\"edge1\" class=\"edge\">\n",
       "<title>NumberProducer_4959444688&#45;&gt;SquareTransformer_4963698128</title>\n",
       "<path fill=\"none\" stroke=\"#30c1d7\" d=\"M100.2,-54.17C112.45,-49.73 125.74,-44.91 138.5,-40.29\"/>\n",
       "<polygon fill=\"#30c1d7\" stroke=\"#30c1d7\" points=\"139.43,-43.67 147.64,-36.98 137.05,-37.09 139.43,-43.67\"/>\n",
       "</g>\n",
       "</g>\n",
       "</svg>\n"
      ],
      "text/html": [
       "<?xml version=\"1.0\" encoding=\"UTF-8\" standalone=\"no\"?>\n",
       "<!DOCTYPE svg PUBLIC \"-//W3C//DTD SVG 1.1//EN\"\n",
       " \"http://www.w3.org/Graphics/SVG/1.1/DTD/svg11.dtd\">\n",
       "<!-- Generated by graphviz version 9.0.0 (0)\n",
       " -->\n",
       "<!-- Title: Flow Pages: 1 -->\n",
       "<svg width=\"410pt\" height=\"114pt\"\n",
       " viewBox=\"0.00 0.00 410.00 113.64\" xmlns=\"http://www.w3.org/2000/svg\" xmlns:xlink=\"http://www.w3.org/1999/xlink\">\n",
       "<g id=\"graph0\" class=\"graph\" transform=\"scale(1 1) rotate(0) translate(4 109.64)\">\n",
       "<title>Flow</title>\n",
       "<polygon fill=\"#ffffff\" stroke=\"none\" points=\"-4,4 -4,-109.64 406,-109.64 406,4 -4,4\"/>\n",
       "<!-- NumberConsumer_4959518928 -->\n",
       "<g id=\"node1\" class=\"node\">\n",
       "<title>NumberConsumer_4959518928</title>\n",
       "<path fill=\"none\" stroke=\"#30c1d7\" d=\"M390,-90C390,-90 314,-90 314,-90 308,-90 302,-84 302,-78 302,-78 302,-66 302,-66 302,-60 308,-54 314,-54 314,-54 390,-54 390,-54 396,-54 402,-60 402,-66 402,-66 402,-78 402,-78 402,-84 396,-90 390,-90\"/>\n",
       "<text text-anchor=\"middle\" x=\"352\" y=\"-69.25\" font-family=\"Monaco, Consolas, monospace\" font-size=\"10.00\" fill=\"#000000\">NumberConsumer</text>\n",
       "</g>\n",
       "<!-- DoublingTransformer_4963709264 -->\n",
       "<g id=\"node2\" class=\"node\">\n",
       "<title>DoublingTransformer_4963709264</title>\n",
       "<path fill=\"#43fda2\" stroke=\"#30c1d7\" d=\"M254,-90C254,-90 148,-90 148,-90 142,-90 136,-84 136,-78 136,-78 136,-66 136,-66 136,-60 142,-54 148,-54 148,-54 254,-54 254,-54 260,-54 266,-60 266,-66 266,-66 266,-78 266,-78 266,-84 260,-90 254,-90\"/>\n",
       "<text text-anchor=\"middle\" x=\"201\" y=\"-69.25\" font-family=\"Monaco, Consolas, monospace\" font-size=\"10.00\" fill=\"#000000\">DoublingTransformer</text>\n",
       "</g>\n",
       "<!-- DoublingTransformer_4963709264&#45;&gt;NumberConsumer_4959518928 -->\n",
       "<g id=\"edge4\" class=\"edge\">\n",
       "<title>DoublingTransformer_4963709264&#45;&gt;NumberConsumer_4959518928</title>\n",
       "<path fill=\"none\" stroke=\"#30c1d7\" d=\"M266.49,-72C274.41,-72 282.49,-72 290.36,-72\"/>\n",
       "<polygon fill=\"#30c1d7\" stroke=\"#30c1d7\" points=\"290.18,-75.5 300.18,-72 290.18,-68.5 290.18,-75.5\"/>\n",
       "</g>\n",
       "<!-- SquareTransformer_4963698128 -->\n",
       "<g id=\"node3\" class=\"node\">\n",
       "<title>SquareTransformer_4963698128</title>\n",
       "<path fill=\"#43fda2\" stroke=\"#30c1d7\" d=\"M248,-36C248,-36 154,-36 154,-36 148,-36 142,-30 142,-24 142,-24 142,-12 142,-12 142,-6 148,0 154,0 154,0 248,0 248,0 254,0 260,-6 260,-12 260,-12 260,-24 260,-24 260,-30 254,-36 248,-36\"/>\n",
       "<text text-anchor=\"middle\" x=\"201\" y=\"-15.25\" font-family=\"Monaco, Consolas, monospace\" font-size=\"10.00\" fill=\"#000000\">SquareTransformer</text>\n",
       "</g>\n",
       "<!-- SquareTransformer_4963698128&#45;&gt;NumberConsumer_4959518928 -->\n",
       "<g id=\"edge5\" class=\"edge\">\n",
       "<title>SquareTransformer_4963698128&#45;&gt;NumberConsumer_4959518928</title>\n",
       "<path fill=\"none\" stroke=\"#30c1d7\" d=\"M252.86,-36.43C265.18,-40.9 278.46,-45.71 291.14,-50.31\"/>\n",
       "<polygon fill=\"#30c1d7\" stroke=\"#30c1d7\" points=\"289.61,-53.47 300.21,-53.59 292,-46.89 289.61,-53.47\"/>\n",
       "</g>\n",
       "<!-- NumberProducer_4959444688 -->\n",
       "<g id=\"node4\" class=\"node\">\n",
       "<title>NumberProducer_4959444688</title>\n",
       "<path fill=\"none\" stroke=\"#30c1d7\" d=\"M12,-50.5C12,-50.5 88,-50.5 88,-50.5 94,-50.5 100,-56.5 100,-62.5 100,-62.5 100,-81.5 100,-81.5 100,-87.5 94,-93.5 88,-93.5 88,-93.5 12,-93.5 12,-93.5 6,-93.5 0,-87.5 0,-81.5 0,-81.5 0,-62.5 0,-62.5 0,-56.5 6,-50.5 12,-50.5\"/>\n",
       "<text text-anchor=\"middle\" x=\"50\" y=\"-80\" font-family=\"Monaco, Consolas, monospace\" font-size=\"10.00\" fill=\"#000000\">NumberProducer</text>\n",
       "<polyline fill=\"none\" stroke=\"#30c1d7\" points=\"0,-72 100,-72\"/>\n",
       "<text text-anchor=\"start\" x=\"8\" y=\"-58.5\" font-family=\"Monaco, Consolas, monospace\" font-size=\"10.00\" fill=\"#000000\">n=5</text>\n",
       "</g>\n",
       "<!-- NumberProducer_4959444688&#45;&gt;NumberConsumer_4959518928 -->\n",
       "<g id=\"edge2\" class=\"edge\">\n",
       "<title>NumberProducer_4959444688&#45;&gt;NumberConsumer_4959518928</title>\n",
       "<path fill=\"none\" stroke=\"#30c1d7\" d=\"M100.28,-90.46C111.83,-94 124.22,-97.17 136,-99 193.1,-107.85 208.9,-107.85 266,-99 274.1,-97.74 282.48,-95.85 290.69,-93.64\"/>\n",
       "<polygon fill=\"#30c1d7\" stroke=\"#30c1d7\" points=\"291.63,-97.02 300.27,-90.88 289.69,-90.29 291.63,-97.02\"/>\n",
       "</g>\n",
       "<!-- NumberProducer_4959444688&#45;&gt;DoublingTransformer_4963709264 -->\n",
       "<g id=\"edge3\" class=\"edge\">\n",
       "<title>NumberProducer_4959444688&#45;&gt;DoublingTransformer_4963709264</title>\n",
       "<path fill=\"none\" stroke=\"#30c1d7\" d=\"M100.2,-72C107.92,-72 116.05,-72 124.21,-72\"/>\n",
       "<polygon fill=\"#30c1d7\" stroke=\"#30c1d7\" points=\"124.19,-75.5 134.19,-72 124.19,-68.5 124.19,-75.5\"/>\n",
       "</g>\n",
       "<!-- NumberProducer_4959444688&#45;&gt;SquareTransformer_4963698128 -->\n",
       "<g id=\"edge1\" class=\"edge\">\n",
       "<title>NumberProducer_4959444688&#45;&gt;SquareTransformer_4963698128</title>\n",
       "<path fill=\"none\" stroke=\"#30c1d7\" d=\"M100.2,-54.17C112.45,-49.73 125.74,-44.91 138.5,-40.29\"/>\n",
       "<polygon fill=\"#30c1d7\" stroke=\"#30c1d7\" points=\"139.43,-43.67 147.64,-36.98 137.05,-37.09 139.43,-43.67\"/>\n",
       "</g>\n",
       "</g>\n",
       "</svg>\n"
      ],
      "text/plain": [
       "NumberProducer(n=5) >> (DoublingTransformer() & SquareTransformer() & Passthrough()) >> NumberConsumer()"
      ]
     },
     "execution_count": 13,
     "metadata": {},
     "output_type": "execute_result"
    }
   ],
   "source": [
    "flow_passthrough"
   ]
  },
  {
   "cell_type": "markdown",
   "id": "550c8f799e0fb5d0",
   "metadata": {},
   "source": [
    "Running the flow:"
   ]
  },
  {
   "cell_type": "code",
   "execution_count": 14,
   "id": "e3c441f09673794d",
   "metadata": {
    "ExecuteTime": {
     "end_time": "2024-06-19T21:22:06.320443Z",
     "start_time": "2024-06-19T21:22:06.317005Z"
    }
   },
   "outputs": [
    {
     "data": {
      "text/plain": [
       "[2, 4, 6, 8, 10, 1, 4, 9, 16, 25, 1, 2, 3, 4, 5]"
      ]
     },
     "execution_count": 14,
     "metadata": {},
     "output_type": "execute_result"
    }
   ],
   "source": [
    "flow_passthrough.run()"
   ]
  },
  {
   "cell_type": "markdown",
   "id": "91b81bf1e5cec1ef",
   "metadata": {},
   "source": [
    "## Asynchronous Flows\n",
    "\n",
    "The real power of the object-oriented API is that it allows you to run conduits concurrently using Python's asynchronous capabilities.\n",
    "To do this, you need to use the `async` versions of the producer, transformer, and consumer classes:\n",
    "`AsyncProducer`, `AsyncTransformer`, and `AsyncConsumer`.\n",
    "\n",
    "Instead of implementing the `produce`, `transform`, and `consume` methods, you need to implement the `aproduce`, `atransform`, and `aconsume` methods, respectively. Calls to the original methods will create an event loop and will defer the execution of the asynchronous methods.\n",
    "\n",
    "In the following example, we will run the same flow as before, but this time we will use the asynchronous versions of the classes."
   ]
  },
  {
   "cell_type": "code",
   "execution_count": 15,
   "id": "abb809f373cb674c",
   "metadata": {
    "ExecuteTime": {
     "end_time": "2024-06-19T21:22:06.326052Z",
     "start_time": "2024-06-19T21:22:06.321268Z"
    }
   },
   "outputs": [],
   "source": [
    "import random\n",
    "import asyncio\n",
    "from collections.abc import AsyncIterator\n",
    "from fluxus import AsyncProducer, AsyncTransformer, AsyncConsumer\n",
    "\n",
    "\n",
    "class AsyncNumberProducer(AsyncProducer[int]):\n",
    "\n",
    "    def __init__(self, n: int) -> None:\n",
    "        self.n = n\n",
    "\n",
    "    async def aproduce(self) -> AsyncIterator[int]:\n",
    "        for i in range(1, self.n + 1):\n",
    "            yield i\n",
    "\n",
    "\n",
    "class AsyncDoublingTransformer(AsyncTransformer[int, int]):\n",
    "\n",
    "    async def atransform(self, x: int) -> AsyncIterator[int]:\n",
    "        yield x * 2\n",
    "\n",
    "\n",
    "class AsyncSquareTransformer(AsyncTransformer[int, int]):\n",
    "\n",
    "    async def atransform(self, x: int) -> AsyncIterator[int]:\n",
    "        yield x * x\n",
    "\n",
    "\n",
    "class AsyncNumberConsumer(AsyncConsumer[int, list[int]]):\n",
    "\n",
    "    async def aconsume(self, products: AsyncIterator[tuple[int, int]]) -> list[int]:\n",
    "        return [number async for _, number in products]\n",
    "\n",
    "\n",
    "flow_async = (\n",
    "    AsyncNumberProducer(n=5)\n",
    "    >> AsyncDoublingTransformer()\n",
    "    >> AsyncSquareTransformer()\n",
    "    >> AsyncNumberConsumer()\n",
    ")"
   ]
  },
  {
   "cell_type": "markdown",
   "id": "bba3fe84fb9b0986",
   "metadata": {},
   "source": [
    "If you are already inside an event loop (as is the case in Jupyter notebooks), you can run the asynchronous flow using the asynchronous `arun` method:"
   ]
  },
  {
   "cell_type": "code",
   "execution_count": 16,
   "id": "fd543db281a38cc9",
   "metadata": {
    "ExecuteTime": {
     "end_time": "2024-06-19T21:22:06.330618Z",
     "start_time": "2024-06-19T21:22:06.326737Z"
    }
   },
   "outputs": [
    {
     "data": {
      "text/plain": [
       "[4, 16, 36, 64, 100]"
      ]
     },
     "execution_count": 16,
     "metadata": {},
     "output_type": "execute_result"
    }
   ],
   "source": [
    "await flow_async.arun()"
   ]
  },
  {
   "cell_type": "markdown",
   "id": "3061ff1a5cb46fbb",
   "metadata": {},
   "source": [
    "Alternatively, calling the synchronous `run` method on an asynchronous flow will create a new event loop behind the scenes and run the asynchronous methods from there:"
   ]
  },
  {
   "cell_type": "code",
   "execution_count": 17,
   "id": "43700c5ec95f41ea",
   "metadata": {
    "ExecuteTime": {
     "end_time": "2024-06-19T21:22:06.336128Z",
     "start_time": "2024-06-19T21:22:06.331380Z"
    }
   },
   "outputs": [
    {
     "data": {
      "text/plain": [
       "[4, 16, 36, 64, 100]"
      ]
     },
     "execution_count": 17,
     "metadata": {},
     "output_type": "execute_result"
    }
   ],
   "source": [
    "flow_async.run()"
   ]
  },
  {
   "cell_type": "markdown",
   "id": "955521c0bf01b2c7",
   "metadata": {},
   "source": [
    "While the above is a toy example which does not benefit from the asynchronous capabilities, asynchronous flows will bring dramatic performance improvements when dealing with I/O-bound tasks, such as calls to remote APIs or database queries."
   ]
  },
  {
   "cell_type": "markdown",
   "id": "c8e8e689",
   "metadata": {},
   "source": [
    "## Concluding remarks"
   ]
  },
  {
   "cell_type": "markdown",
   "id": "6cd1e5ac9c28c054",
   "metadata": {},
   "source": [
    "In this notebook, we have demonstrated how to create custom classes for producers, transformers, and consumers.\n",
    "We have built a flow by chaining these conduits together using the `>>` operator.\n",
    "We have also shown how to run multiple conduits concurrently using the `&` operator, and have introduced the `Passthrough` transformer, which can be used to pass the input product through without modification.\n",
    "Finally, we have demonstrated how to create and run asynchronous flows using the asynchronous versions of the classes."
   ]
  }
 ],
 "metadata": {
  "kernelspec": {
   "display_name": "Python 3 (ipykernel)",
   "language": "python",
   "name": "python3"
  },
  "language_info": {
   "codemirror_mode": {
    "name": "ipython",
    "version": 3
   },
   "file_extension": ".py",
   "mimetype": "text/x-python",
   "name": "python",
   "nbconvert_exporter": "python",
   "pygments_lexer": "ipython3",
   "version": "3.12.2"
  }
 },
 "nbformat": 4,
 "nbformat_minor": 5
}
