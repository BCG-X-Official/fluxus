{
 "cells": [
  {
   "cell_type": "markdown",
   "id": "563768a5-cf56-4ccd-9db7-cdfe2a117654",
   "metadata": {},
   "source": [
    "# Building Your First ARTKIT Pipeline"
   ]
  },
  {
   "cell_type": "markdown",
   "id": "1cc6cf47-6d2a-433d-a0ca-9abf4b7063d2",
   "metadata": {},
   "source": [
    "## Introduction"
   ]
  },
  {
   "cell_type": "markdown",
   "id": "e83b06ba",
   "metadata": {},
   "source": [
    "This notebook introduces the basic building blocks for developing flows with FLUXUS. You will learn how to:\n",
    "\n",
    "…"
   ]
  },
  {
   "cell_type": "markdown",
   "id": "82774e01-0015-4d0f-9c35-de08e193391d",
   "metadata": {},
   "source": [
    "## Setup"
   ]
  },
  {
   "cell_type": "markdown",
   "id": "c8e8e689",
   "metadata": {},
   "source": [
    "## Concluding remarks"
   ]
  }
 ],
 "metadata": {
  "kernelspec": {
   "display_name": "Python 3 (ipykernel)",
   "language": "python",
   "name": "python3"
  },
  "language_info": {
   "codemirror_mode": {
    "name": "ipython",
    "version": 3
   },
   "file_extension": ".py",
   "mimetype": "text/x-python",
   "name": "python",
   "nbconvert_exporter": "python",
   "pygments_lexer": "ipython3",
   "version": "3.12.2"
  }
 },
 "nbformat": 4,
 "nbformat_minor": 5
}
